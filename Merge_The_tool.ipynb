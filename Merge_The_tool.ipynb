{
 "cells": [
  {
   "cell_type": "code",
   "execution_count": 1,
   "id": "08d1ef55",
   "metadata": {},
   "outputs": [],
   "source": [
    "# https://www.hackerrank.com/challenges/merge-the-tools/problem?isFullScreen=true&h_r=next-challenge&h_v=zen"
   ]
  },
  {
   "cell_type": "code",
   "execution_count": 5,
   "id": "138ded40",
   "metadata": {},
   "outputs": [],
   "source": [
    "def merge_the_tools(string, k):\n",
    "    if len(string)%k==0:\n",
    "        m=0\n",
    "        l=int(len(string)/k)\n",
    "        t=[]\n",
    "\n",
    "        for j in range(l):   #We need to run the program for the no of division time  \n",
    "            s=\"\"\n",
    "            for i in range(m, m+k):\n",
    "                s=s+string[i]\n",
    "            m=m+k\n",
    "            t.append(s)\n",
    "        # print(t)\n",
    "\n",
    "        for i in t:\n",
    "            u=\"\"\n",
    "            for j in i:\n",
    "                if j not in u:\n",
    "                    u=u+j\n",
    "            print(u)\n",
    "    else:\n",
    "        print(\"Check your inputs\")\n"
   ]
  },
  {
   "cell_type": "code",
   "execution_count": 7,
   "id": "70ca65bb",
   "metadata": {},
   "outputs": [
    {
     "name": "stdout",
     "output_type": "stream",
     "text": [
      "AB\n",
      "CA\n",
      "AD\n"
     ]
    }
   ],
   "source": [
    "merge_the_tools(\"AABCAAADA\", 3)"
   ]
  },
  {
   "cell_type": "code",
   "execution_count": null,
   "id": "f9e87478",
   "metadata": {},
   "outputs": [],
   "source": []
  }
 ],
 "metadata": {
  "kernelspec": {
   "display_name": "Python 3 (ipykernel)",
   "language": "python",
   "name": "python3"
  },
  "language_info": {
   "codemirror_mode": {
    "name": "ipython",
    "version": 3
   },
   "file_extension": ".py",
   "mimetype": "text/x-python",
   "name": "python",
   "nbconvert_exporter": "python",
   "pygments_lexer": "ipython3",
   "version": "3.10.1"
  }
 },
 "nbformat": 4,
 "nbformat_minor": 5
}
