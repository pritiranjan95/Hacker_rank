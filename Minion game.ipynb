{
 "cells": [
  {
   "cell_type": "code",
   "execution_count": 265,
   "id": "e8cf78ef",
   "metadata": {},
   "outputs": [],
   "source": [
    "# it will iterate through all the characters of the string.. \n",
    "# if the string is banana, you can create 6 words starting from the first 'B', you can create 5 words starting from the first 'A' and similarly for every character you can create (string_len-i) words. so if the word starts with vowel, add it to Kevin, else add it to Stuart. Finally compare their results and print the winner"
   ]
  },
  {
   "cell_type": "code",
   "execution_count": 262,
   "id": "496c50ef",
   "metadata": {},
   "outputs": [],
   "source": [
    "#The right solution. \n",
    "def minion_game(string):\n",
    "    string=string.upper()\n",
    "    vowel=\"AEIOU\"\n",
    "    kevin=0\n",
    "    stuart=0\n",
    "    ln=len(string)\n",
    "    for i in range(ln):\n",
    "        if string[i] in vowel:\n",
    "            kevin=kevin+(ln-i)\n",
    "        else:\n",
    "            stuart=stuart+(ln-i)\n",
    "    if kevin>stuart:\n",
    "        print(f\"Kevin won with {kevin} points\")\n",
    "    elif stuart>kevin:\n",
    "        print(f\"Stuart won with {stuart} points\")\n",
    "    else:\n",
    "        print(f\"It's a draw, Kevin :{kevin}, Stuart:{stuart}\")"
   ]
  },
  {
   "cell_type": "code",
   "execution_count": 257,
   "id": "48191640",
   "metadata": {},
   "outputs": [],
   "source": [
    "def minion_game(string):\n",
    "    string=string.upper()\n",
    "    vowel=\"AEIOU\"\n",
    "    stuart=0\n",
    "    kevin=0\n",
    "    for i in string:\n",
    "        f=get_index(string, i)\n",
    "        \n",
    "        print(f)\n",
    "        for j in f:\n",
    "            if i in vowel:\n",
    "                g=len(string)\n",
    "                while string[j:g]:\n",
    "#                     print(string[j:g])\n",
    "                    kevin+=1\n",
    "                    g=g-1  \n",
    "                string=string.replace(i,\"\")\n",
    "                print(string)\n",
    "#             else:\n",
    "#                 g=-1\n",
    "#                 while string[j:g]:\n",
    "#                     stuart+=1\n",
    "#                     g=g-1\n",
    "            \n",
    "                \n",
    "#     print(f\"total of kevin is: {kevin}\")\n",
    "#     print(f\"total of Sturat is: {stuart}\")\n",
    "    \n",
    "    \n",
    "   "
   ]
  },
  {
   "cell_type": "code",
   "execution_count": 258,
   "id": "c2ad0ac7",
   "metadata": {},
   "outputs": [
    {
     "name": "stdout",
     "output_type": "stream",
     "text": [
      "[0, 3]\n",
      "BC\n",
      "[0]\n",
      "C\n",
      "[0]\n",
      "\n",
      "[]\n",
      "\n"
     ]
    }
   ],
   "source": [
    "minion_game(\"abca\")"
   ]
  },
  {
   "cell_type": "code",
   "execution_count": 233,
   "id": "7c9882da",
   "metadata": {},
   "outputs": [],
   "source": [
    "def get_index(st,val):\n",
    "    indexs = []\n",
    "    for i,ch in enumerate(st):\n",
    "        if ch==val:\n",
    "            indexs.append(i)\n",
    "    return indexs\n",
    "        "
   ]
  },
  {
   "cell_type": "code",
   "execution_count": 234,
   "id": "b083b9ed",
   "metadata": {},
   "outputs": [
    {
     "data": {
      "text/plain": [
       "[0, 4]"
      ]
     },
     "execution_count": 234,
     "metadata": {},
     "output_type": "execute_result"
    }
   ],
   "source": [
    "get_index(\"bapib\",\"b\")"
   ]
  },
  {
   "cell_type": "code",
   "execution_count": 263,
   "id": "2affdd6c",
   "metadata": {},
   "outputs": [
    {
     "name": "stdout",
     "output_type": "stream",
     "text": [
      "Stuart won with 6 points\n"
     ]
    }
   ],
   "source": [
    "minion_game(\"bapi\")"
   ]
  },
  {
   "cell_type": "code",
   "execution_count": null,
   "id": "5efc9a9b",
   "metadata": {},
   "outputs": [],
   "source": []
  }
 ],
 "metadata": {
  "kernelspec": {
   "display_name": "Python 3 (ipykernel)",
   "language": "python",
   "name": "python3"
  },
  "language_info": {
   "codemirror_mode": {
    "name": "ipython",
    "version": 3
   },
   "file_extension": ".py",
   "mimetype": "text/x-python",
   "name": "python",
   "nbconvert_exporter": "python",
   "pygments_lexer": "ipython3",
   "version": "3.10.1"
  }
 },
 "nbformat": 4,
 "nbformat_minor": 5
}
