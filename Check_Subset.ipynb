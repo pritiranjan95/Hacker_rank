{
 "cells": [
  {
   "cell_type": "code",
   "execution_count": 1,
   "id": "a17fffcb",
   "metadata": {},
   "outputs": [],
   "source": [
    "# You are given two sets, A and B.\n",
    "# Your job is to find whether set A is a subset of set B."
   ]
  },
  {
   "cell_type": "code",
   "execution_count": 22,
   "id": "58d3c5b9",
   "metadata": {},
   "outputs": [],
   "source": [
    "def subset_test(a,b):\n",
    "    a=set(a)\n",
    "    b=set(b)\n",
    "    for i in a:\n",
    "        if i in b:\n",
    "            continue\n",
    "        else:\n",
    "            return \"False\"\n",
    "    \n",
    "    return \"True\"\n",
    "        \n",
    "        \n",
    "                \n",
    "                \n",
    "    "
   ]
  },
  {
   "cell_type": "code",
   "execution_count": null,
   "id": "6834d726",
   "metadata": {},
   "outputs": [
    {
     "name": "stdout",
     "output_type": "stream",
     "text": [
      "Insert the no of test cases: 2\n",
      "How many elements you want to give in 'a': 2\n",
      "Giv the element: 1\n",
      "Giv the element: 2\n",
      "How many elements you want to give in 'b': 3\n",
      "Give the element for 'b': 1\n",
      "Give the element for 'b': 2\n",
      "Give the element for 'b': 3\n"
     ]
    }
   ],
   "source": [
    "t=int(input(\"Insert the no of test cases: \"))\n",
    "\n",
    "if t>0 and t<21:\n",
    "    for i in range(t):\n",
    "        \n",
    "        #Asking elements for \"a\"\n",
    "        n=int(input(\"How many elements you want to give in 'a': \"))\n",
    "        a=[]\n",
    "        for i in range(n):\n",
    "            ele=int(input(\"Giv the element: \"))\n",
    "            a.append(ele)\n",
    "        \n",
    "        #Asking elements for \"b\"\n",
    "        m=int(input(\"How many elements you want to give in 'b': \"))\n",
    "        b=[]\n",
    "        for j in range(m):\n",
    "            ele=int(input(\"Give the element for 'b': \"))\n",
    "            b.append(ele)\n",
    "        \n",
    "        subset_test(a,b)\n",
    "        "
   ]
  },
  {
   "cell_type": "code",
   "execution_count": 10,
   "id": "5b39ddb6",
   "metadata": {},
   "outputs": [
    {
     "name": "stdout",
     "output_type": "stream",
     "text": [
      "yes\n"
     ]
    }
   ],
   "source": [
    "a={2,3,4}\n",
    "i=3\n",
    "if i in a:\n",
    "    print(\"yes\")\n",
    "else:\n",
    "    print(\"no\")"
   ]
  },
  {
   "cell_type": "code",
   "execution_count": 20,
   "id": "6420ddaf",
   "metadata": {},
   "outputs": [],
   "source": [
    "def a():\n",
    "    return \"True\""
   ]
  },
  {
   "cell_type": "code",
   "execution_count": 21,
   "id": "c32d01c0",
   "metadata": {},
   "outputs": [
    {
     "data": {
      "text/plain": [
       "'True'"
      ]
     },
     "execution_count": 21,
     "metadata": {},
     "output_type": "execute_result"
    }
   ],
   "source": [
    "a()"
   ]
  },
  {
   "cell_type": "code",
   "execution_count": null,
   "id": "e44ad901",
   "metadata": {},
   "outputs": [],
   "source": []
  }
 ],
 "metadata": {
  "kernelspec": {
   "display_name": "Python 3 (ipykernel)",
   "language": "python",
   "name": "python3"
  },
  "language_info": {
   "codemirror_mode": {
    "name": "ipython",
    "version": 3
   },
   "file_extension": ".py",
   "mimetype": "text/x-python",
   "name": "python",
   "nbconvert_exporter": "python",
   "pygments_lexer": "ipython3",
   "version": "3.10.1"
  }
 },
 "nbformat": 4,
 "nbformat_minor": 5
}
