{
 "cells": [
  {
   "cell_type": "code",
   "execution_count": 1,
   "id": "d263490b",
   "metadata": {},
   "outputs": [],
   "source": [
    "# You are given two sets, A and B.\n",
    "# Your job is to find whether set A is a subset of set B."
   ]
  },
  {
   "cell_type": "code",
   "execution_count": 4,
   "id": "84d2c811",
   "metadata": {},
   "outputs": [],
   "source": [
    "import logging\n",
    "logging.basicConfig(filename=\"subset.log\",filemode=\"w\",level=logging.DEBUG, format=\"%(asctime)s-%(message)s\")\n",
    "\n",
    "logg=logging.getLogger(\"\")"
   ]
  },
  {
   "cell_type": "code",
   "execution_count": 9,
   "id": "ee6d00fd",
   "metadata": {},
   "outputs": [],
   "source": [
    "def subset_test(a,b):\n",
    "    \n",
    "    a=set(a)\n",
    "    b=set(b)\n",
    "    if len(a)<len(b):\n",
    "        for i in a:\n",
    "            if i in b:\n",
    "                continue\n",
    "            else:\n",
    "                logg.info(\"It's not a Subset\")\n",
    "                print('\\nA is not a subset here')\n",
    "                return \"False\"\n",
    "\n",
    "        logg.info(\"It's a Subset\")\n",
    "        print(\"\\nA is a subset here\")\n",
    "        return \"True\"\n",
    "    \n",
    "    else:\n",
    "        print(\"Fal\")\n",
    "    "
   ]
  },
  {
   "cell_type": "code",
   "execution_count": null,
   "id": "cec9ae03",
   "metadata": {},
   "outputs": [],
   "source": [
    "t=int(input(\"Insert the no of test cases: \"))\n",
    "\n",
    "if t>0 and t<21:\n",
    "    for i in range(t):\n",
    "        \n",
    "        #Asking elements for \"a\"\n",
    "        n=int(input(\"How many elements you want to give in 'a': \"))\n",
    "        a=[]\n",
    "        for i in range(n):\n",
    "            ele=int(input(\"Giv the element: \"))\n",
    "            a.append(ele)\n",
    "        logg.info(f\"The list of 'a' is {a}\")\n",
    "        \n",
    "        #Asking elements for \"b\"\n",
    "        m=int(input(\"How many elements you want to give in 'b': \"))\n",
    "        b=[]\n",
    "        for j in range(m):\n",
    "            ele=int(input(\"Give the element for 'b': \"))\n",
    "            b.append(ele)\n",
    "        logg.info(f\"The list of 'b' is {b}\")\n",
    "        \n",
    "        try:\n",
    "            print(subset_test(a,b))\n",
    "        except exception as e:\n",
    "            logg.exception(e)\n",
    "        "
   ]
  },
  {
   "cell_type": "code",
   "execution_count": null,
   "id": "133d67e3",
   "metadata": {},
   "outputs": [],
   "source": []
  }
 ],
 "metadata": {
  "kernelspec": {
   "display_name": "Python 3 (ipykernel)",
   "language": "python",
   "name": "python3"
  },
  "language_info": {
   "codemirror_mode": {
    "name": "ipython",
    "version": 3
   },
   "file_extension": ".py",
   "mimetype": "text/x-python",
   "name": "python",
   "nbconvert_exporter": "python",
   "pygments_lexer": "ipython3",
   "version": "3.10.1"
  }
 },
 "nbformat": 4,
 "nbformat_minor": 5
}
