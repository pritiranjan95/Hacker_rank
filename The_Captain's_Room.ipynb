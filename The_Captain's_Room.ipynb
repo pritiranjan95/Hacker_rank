{
 "cells": [
  {
   "cell_type": "code",
   "execution_count": 1,
   "id": "4492b6fe",
   "metadata": {},
   "outputs": [],
   "source": [
    "# https://www.hackerrank.com/challenges/py-the-captains-room/problem?h_r=next-challenge&h_v=zen&isFullScreen=false&h_r=next-challenge&h_v=zen"
   ]
  },
  {
   "cell_type": "code",
   "execution_count": 89,
   "id": "8437e25a",
   "metadata": {},
   "outputs": [
    {
     "name": "stdout",
     "output_type": "stream",
     "text": [
      "The lst after:  [2, 2, 2, 2, 1, 2, 3]\n",
      "The lst after:  [2, 1, 2, 3]\n",
      "The lst after:  [1, 3]\n"
     ]
    }
   ],
   "source": [
    "k=5\n",
    "li=[1,2,1,2,1,2,1,2,1,2,3]\n",
    "if len(li)%k==1:\n",
    "    for e,i in enumerate(li):\n",
    "        for f,j in enumerate(li):\n",
    "#             print(li)\n",
    "            if e!=f and i==j:\n",
    "                li.remove(j)\n",
    "        li.remove(i)\n",
    "        print(\"The lst after: \", li)\n",
    "\n",
    "# print(li)"
   ]
  },
  {
   "cell_type": "code",
   "execution_count": 66,
   "id": "2b05c2d4",
   "metadata": {},
   "outputs": [],
   "source": [
    "li=[1,1,1,1,1,2,2,2,2,2,3]"
   ]
  },
  {
   "cell_type": "code",
   "execution_count": 67,
   "id": "67bd3abf",
   "metadata": {},
   "outputs": [],
   "source": [
    "u = []\n",
    "key = set(li)\n",
    "e = {k:0 for k in key}"
   ]
  },
  {
   "cell_type": "code",
   "execution_count": 68,
   "id": "dd371be6",
   "metadata": {},
   "outputs": [
    {
     "data": {
      "text/plain": [
       "{1: 0, 2: 0, 3: 0}"
      ]
     },
     "execution_count": 68,
     "metadata": {},
     "output_type": "execute_result"
    }
   ],
   "source": [
    "e"
   ]
  },
  {
   "cell_type": "code",
   "execution_count": 15,
   "id": "e62a0861",
   "metadata": {},
   "outputs": [
    {
     "name": "stdout",
     "output_type": "stream",
     "text": [
      "5\n",
      "1 1 1 1 1 2 2 2 2 2 4\n",
      "4\n"
     ]
    }
   ],
   "source": [
    "# Final Program\n",
    "k=int(input())\n",
    "l=input()\n",
    "li=l.split()\n",
    "if len(li)%k==1:\n",
    "    d={}\n",
    "    for i in li:\n",
    "        a=li.count(i)\n",
    "        d[i]=a\n",
    "    for i,j in d.items():\n",
    "        if j==1:\n",
    "            print(i)"
   ]
  },
  {
   "cell_type": "code",
   "execution_count": 22,
   "id": "16a5806a",
   "metadata": {},
   "outputs": [
    {
     "name": "stdout",
     "output_type": "stream",
     "text": [
      "5\n",
      "1 1 1 1 1 2 2 2 2 2 4\n",
      "Counter({'1': 5, '2': 5, '4': 1})\n",
      "4\n"
     ]
    }
   ],
   "source": [
    "#Using collection module\n",
    "\n",
    "from collections import Counter\n",
    "k=int(input())\n",
    "l=input()\n",
    "l=l.split()\n",
    "if len(l)%k==1:\n",
    "    li=Counter(l)\n",
    "    \n",
    "\n",
    "for k,v in li.items():\n",
    "    if v==1:\n",
    "        print(k)"
   ]
  },
  {
   "cell_type": "code",
   "execution_count": null,
   "id": "277c890f",
   "metadata": {},
   "outputs": [],
   "source": []
  }
 ],
 "metadata": {
  "kernelspec": {
   "display_name": "Python 3 (ipykernel)",
   "language": "python",
   "name": "python3"
  },
  "language_info": {
   "codemirror_mode": {
    "name": "ipython",
    "version": 3
   },
   "file_extension": ".py",
   "mimetype": "text/x-python",
   "name": "python",
   "nbconvert_exporter": "python",
   "pygments_lexer": "ipython3",
   "version": "3.10.1"
  }
 },
 "nbformat": 4,
 "nbformat_minor": 5
}
