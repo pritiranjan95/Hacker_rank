{
 "cells": [
  {
   "cell_type": "code",
   "execution_count": 1,
   "id": "f54640db",
   "metadata": {},
   "outputs": [],
   "source": [
    "# https://www.hackerrank.com/challenges/py-the-captains-room/problem?h_r=next-challenge&h_v=zen&isFullScreen=false&h_r=next-challenge&h_v=zen"
   ]
  },
  {
   "cell_type": "code",
   "execution_count": 89,
   "id": "b1774e62",
   "metadata": {},
   "outputs": [
    {
     "name": "stdout",
     "output_type": "stream",
     "text": [
      "The lst after:  [2, 2, 2, 2, 1, 2, 3]\n",
      "The lst after:  [2, 1, 2, 3]\n",
      "The lst after:  [1, 3]\n"
     ]
    }
   ],
   "source": [
    "k=5\n",
    "li=[1,2,1,2,1,2,1,2,1,2,3]\n",
    "if len(li)%k==1:\n",
    "    for e,i in enumerate(li):\n",
    "        for f,j in enumerate(li):\n",
    "#             print(li)\n",
    "            if e!=f and i==j:\n",
    "                li.remove(j)\n",
    "        li.remove(i)\n",
    "        print(\"The lst after: \", li)\n",
    "\n",
    "# print(li)"
   ]
  },
  {
   "cell_type": "code",
   "execution_count": 66,
   "id": "6d9908e2",
   "metadata": {},
   "outputs": [],
   "source": [
    "li=[1,1,1,1,1,2,2,2,2,2,3]"
   ]
  },
  {
   "cell_type": "code",
   "execution_count": 67,
   "id": "50a8f6f7",
   "metadata": {},
   "outputs": [],
   "source": [
    "u = []\n",
    "key = set(li)\n",
    "e = {k:0 for k in key}"
   ]
  },
  {
   "cell_type": "code",
   "execution_count": 68,
   "id": "6756d05d",
   "metadata": {},
   "outputs": [
    {
     "data": {
      "text/plain": [
       "{1: 0, 2: 0, 3: 0}"
      ]
     },
     "execution_count": 68,
     "metadata": {},
     "output_type": "execute_result"
    }
   ],
   "source": [
    "e"
   ]
  },
  {
   "cell_type": "code",
   "execution_count": 69,
   "id": "ae106f38",
   "metadata": {},
   "outputs": [
    {
     "name": "stdout",
     "output_type": "stream",
     "text": [
      "x:  1 y:  1\n",
      "x:  1 y:  1\n",
      "x:  1 y:  1\n",
      "x:  1 y:  1\n",
      "x:  1 y:  2\n",
      "x:  1 y:  2\n",
      "x:  1 y:  2\n",
      "x:  1 y:  2\n",
      "x:  1 y:  2\n",
      "x:  1 y:  3\n",
      "x:  1 y:  1\n",
      "x:  1 y:  1\n",
      "x:  1 y:  1\n",
      "x:  1 y:  1\n",
      "x:  1 y:  1\n",
      "x:  1 y:  2\n",
      "x:  1 y:  2\n",
      "x:  1 y:  2\n",
      "x:  1 y:  2\n",
      "x:  1 y:  3\n",
      "x:  1 y:  1\n",
      "x:  1 y:  1\n",
      "x:  1 y:  1\n",
      "x:  1 y:  1\n",
      "x:  1 y:  1\n",
      "x:  1 y:  2\n",
      "x:  1 y:  2\n",
      "x:  1 y:  2\n",
      "x:  1 y:  2\n",
      "x:  1 y:  3\n",
      "x:  1 y:  1\n",
      "x:  1 y:  1\n",
      "x:  1 y:  1\n",
      "x:  1 y:  1\n",
      "x:  1 y:  1\n",
      "x:  1 y:  2\n",
      "x:  1 y:  2\n",
      "x:  1 y:  2\n",
      "x:  1 y:  2\n",
      "x:  1 y:  3\n",
      "x:  1 y:  1\n",
      "x:  1 y:  1\n",
      "x:  1 y:  1\n",
      "x:  1 y:  1\n",
      "x:  1 y:  1\n",
      "x:  1 y:  2\n",
      "x:  1 y:  2\n",
      "x:  1 y:  2\n",
      "x:  1 y:  2\n",
      "x:  1 y:  3\n",
      "x:  2 y:  1\n",
      "x:  2 y:  1\n",
      "x:  2 y:  1\n",
      "x:  2 y:  1\n",
      "x:  2 y:  1\n",
      "x:  2 y:  2\n",
      "x:  2 y:  2\n",
      "x:  2 y:  2\n",
      "x:  2 y:  2\n",
      "x:  2 y:  3\n",
      "x:  2 y:  1\n",
      "x:  2 y:  1\n",
      "x:  2 y:  1\n",
      "x:  2 y:  1\n",
      "x:  2 y:  1\n",
      "x:  2 y:  2\n",
      "x:  2 y:  2\n",
      "x:  2 y:  2\n",
      "x:  2 y:  2\n",
      "x:  2 y:  2\n",
      "x:  2 y:  3\n",
      "x:  2 y:  1\n",
      "x:  2 y:  1\n",
      "x:  2 y:  1\n",
      "x:  2 y:  1\n",
      "x:  2 y:  1\n",
      "x:  2 y:  2\n",
      "x:  2 y:  2\n",
      "x:  2 y:  2\n",
      "x:  2 y:  2\n",
      "x:  2 y:  2\n",
      "x:  2 y:  3\n",
      "x:  2 y:  1\n",
      "x:  2 y:  1\n",
      "x:  2 y:  1\n",
      "x:  2 y:  1\n",
      "x:  2 y:  1\n",
      "x:  2 y:  2\n",
      "x:  2 y:  2\n",
      "x:  2 y:  2\n",
      "x:  2 y:  2\n",
      "x:  2 y:  2\n",
      "x:  2 y:  3\n",
      "x:  2 y:  1\n",
      "x:  2 y:  1\n",
      "x:  2 y:  1\n",
      "x:  2 y:  1\n",
      "x:  2 y:  1\n",
      "x:  2 y:  2\n",
      "x:  2 y:  2\n",
      "x:  2 y:  2\n",
      "x:  2 y:  2\n",
      "x:  2 y:  2\n",
      "x:  2 y:  3\n",
      "x:  3 y:  1\n",
      "x:  3 y:  1\n",
      "x:  3 y:  1\n",
      "x:  3 y:  1\n",
      "x:  3 y:  1\n",
      "x:  3 y:  2\n",
      "x:  3 y:  2\n",
      "x:  3 y:  2\n",
      "x:  3 y:  2\n",
      "x:  3 y:  2\n"
     ]
    }
   ],
   "source": [
    "\n",
    "for i,x in enumerate(li):\n",
    "    for j,y in enumerate(li):\n",
    "        if i!=j:\n",
    "            print(\"x: \",x,\"y: \",y)\n",
    "            if x==y:\n",
    "                i+=1\n",
    "                e[x]+=1\n",
    "#     print(\"value: \",x,\" \",i)\n",
    "\n",
    "        "
   ]
  },
  {
   "cell_type": "code",
   "execution_count": 2,
   "id": "f488064d",
   "metadata": {},
   "outputs": [
    {
     "name": "stdout",
     "output_type": "stream",
     "text": [
      "222223\n",
      "3\n",
      "3\n",
      "3\n",
      "3\n",
      "3\n",
      "3\n",
      "3\n",
      "3\n",
      "3\n",
      "\n"
     ]
    }
   ],
   "source": [
    "li=[1,2,1,2,1,2,1,2,1,2,3]\n",
    "k=\"\"\n",
    "for i in li:\n",
    "    k=k+str(i)\n",
    "\n",
    "for i,m in enumerate(k):\n",
    "    for j,n in enumerate(k):\n",
    "        if i!=j and m==n:\n",
    "            k=k.replace(m, \"\")\n",
    "    print(k)"
   ]
  },
  {
   "cell_type": "code",
   "execution_count": 15,
   "id": "625ecc0a",
   "metadata": {},
   "outputs": [
    {
     "name": "stdout",
     "output_type": "stream",
     "text": [
      "5\n",
      "1 1 1 1 1 2 2 2 2 2 4\n",
      "4\n"
     ]
    }
   ],
   "source": [
    "# Final Program\n",
    "k=int(input())\n",
    "l=input()\n",
    "li=l.split()\n",
    "if len(li)%k==1:\n",
    "    d={}\n",
    "    for i in li:\n",
    "        a=li.count(i)\n",
    "        d[i]=a\n",
    "    for i,j in d.items():\n",
    "        if j==1:\n",
    "            print(i)"
   ]
  },
  {
   "cell_type": "code",
   "execution_count": 13,
   "id": "4c825061",
   "metadata": {},
   "outputs": [
    {
     "name": "stdout",
     "output_type": "stream",
     "text": [
      "1 2  3 5 5  7 7 8\n"
     ]
    },
    {
     "data": {
      "text/plain": [
       "['1', '2', '3', '5', '5', '7', '7', '8']"
      ]
     },
     "execution_count": 13,
     "metadata": {},
     "output_type": "execute_result"
    }
   ],
   "source": [
    "l=input()\n",
    "k=l.split()\n",
    "k"
   ]
  },
  {
   "cell_type": "code",
   "execution_count": 22,
   "id": "614db518",
   "metadata": {},
   "outputs": [
    {
     "name": "stdout",
     "output_type": "stream",
     "text": [
      "5\n",
      "1 1 1 1 1 2 2 2 2 2 4\n",
      "Counter({'1': 5, '2': 5, '4': 1})\n",
      "4\n"
     ]
    }
   ],
   "source": [
    "#Using collection module\n",
    "\n",
    "from collections import Counter\n",
    "k=int(input())\n",
    "l=input()\n",
    "l=l.split()\n",
    "if len(l)%k==1:\n",
    "    li=Counter(l)\n",
    "    \n",
    "\n",
    "for k,v in li.items():\n",
    "    if v==1:\n",
    "        print(k)"
   ]
  },
  {
   "cell_type": "code",
   "execution_count": null,
   "id": "eab4c00d",
   "metadata": {},
   "outputs": [],
   "source": []
  }
 ],
 "metadata": {
  "kernelspec": {
   "display_name": "Python 3 (ipykernel)",
   "language": "python",
   "name": "python3"
  },
  "language_info": {
   "codemirror_mode": {
    "name": "ipython",
    "version": 3
   },
   "file_extension": ".py",
   "mimetype": "text/x-python",
   "name": "python",
   "nbconvert_exporter": "python",
   "pygments_lexer": "ipython3",
   "version": "3.10.1"
  }
 },
 "nbformat": 4,
 "nbformat_minor": 5
}
